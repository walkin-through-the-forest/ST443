{
 "cells": [
  {
   "cell_type": "markdown",
   "metadata": {},
   "source": [
    "# ST 443 - Homework 4"
   ]
  },
  {
   "cell_type": "markdown",
   "metadata": {},
   "source": [
    "## Question 1\n",
    "$\\mathbb{P}[j \\in \\text{Bootstrap}] = 1 - \\mathbb{P}[j \\not \\in \\text{Bootstrap}] = 1 - \\Pi \\mathbb{P}[x_j \\neq x_i] = 1 - \\Pi (1 - 1/n) = \\boxed{1 - (1 - 1/n)^n \\to 1 - 1/e \\text{ as } n \\to \\infty}$"
   ]
  },
  {
   "cell_type": "markdown",
   "metadata": {},
   "source": [
    "## Question 2\n",
    "\n",
    "### Part a\n",
    "$$L(\\beta) = ||Y - X\\beta||^2 = (Y - X\\beta)^T(Y - X\\beta) = Y^TY + \\beta^T X^T X \\beta - \\beta^T X^T Y - Y^T X\\beta$$\n",
    "Using the derivative of a quadratic form $(d/dx) x^T A x = x^(A + A^T) = 2x^T A$ where $A$ is symmetric, and $(d/dx) Ax = A$\n",
    "$$(\\partial/\\partial \\beta) L(\\beta) = 2\\beta^T X^T X - 2Y^T X = 0 \\Rightarrow X^T X \\beta = X^T Y \\Rightarrow \\boxed{\\hat{\\beta}_\\text{OLS} = (X^T X)^{-1} X^T Y}$$\n",
    "When $n \\leq p$, $X^T X$ is singular and thus cannot be inverted.\n",
    "\n",
    "### Part b\n",
    "$$L(\\beta) = ||Y - X\\beta||^2 + \\lambda ||\\beta||^2 = (Y - X\\beta)^T(Y - X\\beta) + \\beta^T (\\lambda \\mathbb{I}_p) \\beta = Y^TY + \\beta^T X^T X \\beta - \\beta^T X^T Y - Y^T X\\beta + \\beta^T (\\lambda \\mathbb{I}_p) \\beta$$\n",
    "$$ (\\partial/\\partial \\beta) L(\\beta) = 2\\beta^T X^T X - 2Y^T X + 2\\beta^T (\\lambda \\mathbb{I}_p) = 0 \\Rightarrow X^T X \\beta + \\lambda \\mathbb{I}_p \\beta = X^T Y \\Rightarrow \\boxed{\\hat{\\beta}_\\text{Ridge} = (X^T X + \\lambda \\mathbb{I}_p)^{-1} X^T Y}$$\n",
    "\n",
    "### Part c\n",
    "$$\\mathbb{V} \\hat{\\beta}_\\text{Ridge} = \\mathbb{E}(\\hat{\\beta}_\\text{Ridge} - \\mathbb{E}\\hat{\\beta}_\\text{Ridge}) (\\hat{\\beta}_\\text{Ridge} - \\mathbb{E}\\hat{\\beta}_\\text{Ridge})^T = \\mathbb{E} \\hat{\\beta}_\\text{Ridge} \\hat{\\beta}_\\text{Ridge}^T - (\\mathbb{E} \\hat{\\beta}_\\text{Ridge}) (\\mathbb{E} \\hat{\\beta}_\\text{Ridge})^T$$\n",
    "\n",
    "### Part d\n",
    "When there is multicollinearity, there are many zero or nearly-zero eigenvalues $d_i$. When $\\lambda$ is small, the denominators in the diagonal terms of $D^*$ are very close to zero, so the variance of $\\hat{\\beta}_\\text{Ridge}$ explodes."
   ]
  },
  {
   "cell_type": "markdown",
   "metadata": {},
   "source": [
    "## Question 3 - ISLR Chapter 6 Exercise 8\n",
    "\n",
    "### Part a"
   ]
  },
  {
   "cell_type": "code",
   "execution_count": 21,
   "metadata": {
    "vscode": {
     "languageId": "r"
    }
   },
   "outputs": [],
   "source": [
    "n <- 100\n",
    "\n",
    "X <- rnorm(n)\n",
    "eps <- rnorm(n)"
   ]
  },
  {
   "cell_type": "markdown",
   "metadata": {},
   "source": [
    "### Part b"
   ]
  },
  {
   "cell_type": "code",
   "execution_count": 22,
   "metadata": {
    "vscode": {
     "languageId": "r"
    }
   },
   "outputs": [],
   "source": [
    "beta <- rnorm(4)\n",
    "Y <- outer(X, 0:3, \"^\") %*% beta + eps"
   ]
  },
  {
   "cell_type": "markdown",
   "metadata": {},
   "source": [
    "### Part c"
   ]
  },
  {
   "cell_type": "markdown",
   "metadata": {},
   "source": [
    "### Part d"
   ]
  },
  {
   "cell_type": "code",
   "execution_count": 42,
   "metadata": {
    "vscode": {
     "languageId": "r"
    }
   },
   "outputs": [
    {
     "data": {
      "text/html": [
       "<style>\n",
       ".list-inline {list-style: none; margin:0; padding: 0}\n",
       ".list-inline>li {display: inline-block}\n",
       ".list-inline>li:not(:last-child)::after {content: \"\\00b7\"; padding: 0 .5ex}\n",
       "</style>\n",
       "<ol class=list-inline><li>0</li><li>2</li><li>1</li><li>3</li><li>4</li><li>10</li><li>6</li><li>5</li><li>9</li><li>7</li><li>8</li></ol>\n"
      ],
      "text/latex": [
       "\\begin{enumerate*}\n",
       "\\item 0\n",
       "\\item 2\n",
       "\\item 1\n",
       "\\item 3\n",
       "\\item 4\n",
       "\\item 10\n",
       "\\item 6\n",
       "\\item 5\n",
       "\\item 9\n",
       "\\item 7\n",
       "\\item 8\n",
       "\\end{enumerate*}\n"
      ],
      "text/markdown": [
       "1. 0\n",
       "2. 2\n",
       "3. 1\n",
       "4. 3\n",
       "5. 4\n",
       "6. 10\n",
       "7. 6\n",
       "8. 5\n",
       "9. 9\n",
       "10. 7\n",
       "11. 8\n",
       "\n",
       "\n"
      ],
      "text/plain": [
       " [1]  0  2  1  3  4 10  6  5  9  7  8"
      ]
     },
     "metadata": {},
     "output_type": "display_data"
    }
   ],
   "source": [
    "predictors <- c(0)\n",
    "\n",
    "for (k in 1:10) {\n",
    "    min_score <- 0\n",
    "    arg_min <- 0\n",
    "    for (i in 1:10) {\n",
    "        if (i %in% predictors) {\n",
    "            next\n",
    "        }\n",
    "\n",
    "        data <- outer(X, c(predictors, i), \"^\")\n",
    "        beta_hat <- solve(t(data) %*% data, t(data) %*% Y)\n",
    "        res <- Y - data %*% beta_hat\n",
    "        score <- exp(-t(res) %*% res)\n",
    "\n",
    "        if (score > min_score) {\n",
    "            min_score <- score\n",
    "            arg_min <- i\n",
    "        }\n",
    "    }\n",
    "\n",
    "    predictors <- c(predictors, arg_min)\n",
    "}\n",
    "\n",
    "predictors"
   ]
  },
  {
   "cell_type": "code",
   "execution_count": null,
   "metadata": {
    "vscode": {
     "languageId": "r"
    }
   },
   "outputs": [],
   "source": []
  }
 ],
 "metadata": {
  "kernelspec": {
   "display_name": "R",
   "language": "R",
   "name": "ir"
  },
  "language_info": {
   "codemirror_mode": "r",
   "file_extension": ".r",
   "mimetype": "text/x-r-source",
   "name": "R",
   "pygments_lexer": "r",
   "version": "4.2.1"
  },
  "orig_nbformat": 4
 },
 "nbformat": 4,
 "nbformat_minor": 2
}
