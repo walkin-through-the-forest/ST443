{
 "cells": [
  {
   "cell_type": "markdown",
   "metadata": {},
   "source": [
    "# ST 443 Homework 3"
   ]
  },
  {
   "cell_type": "markdown",
   "metadata": {},
   "source": [
    "## Question 1\n",
    "\n",
    "We can find the Bayes discriminant $\\eta_l(x) = \\pi_l f_l(x)$ using\n",
    "\n",
    "$\\pi_l = 1-l/3$\n",
    "\n",
    "$f_l(x) = f_{\\mathcal{N}(\\mu_l, \\Sigma_l)}(x)$\n",
    "\n",
    "$\\eta_l(x) = \\begin{cases}\n",
    "    (2/3)(2\\pi)^{-1} (\\det \\Sigma_1)^{-1/2} \\exp(-0.5(x-\\mu_1)^T \\Sigma_1^{-1} (x-\\mu_1)) & l = 1 \\\\\n",
    "    (1/3)(2\\pi)^{-1} (\\det \\Sigma_2)^{-1/2} \\exp(-0.5(x-\\mu_2)^T \\Sigma_2^{-1} (x-\\mu_2)) & l = 1\n",
    "\\end{cases}$\n",
    "\n",
    "Removing any constants and substituting $\\Sigma = \\Sigma_1 = \\Sigma_2$\n",
    "\n",
    "$\\eta_l(x) = \\begin{cases}\n",
    "    2\\exp(-(x-\\mu_1)^T \\Sigma^{-1} (x-\\mu_1)/2) & l = 1 \\\\\n",
    "    \\exp(-(x-\\mu_2)^T \\Sigma^{-1} (x-\\mu_2)/2) & l = 1\n",
    "\\end{cases}$\n",
    "\n",
    "Thus, $\\eta_1(x) = \\eta_2(x)$ when\n",
    "\n",
    "$$2\\exp(-(x-\\mu_1)^T \\Sigma^{-1} (x-\\mu_1)/2) = \\exp(-(x-\\mu_2)^T \\Sigma^{-1} (x-\\mu_2)/2)$$\n",
    "$$2\\exp(-(x_1 - 2)^2/4 - (x_2 - 1)^2/2) = \\exp(-(x_1 - 1)^2/4 - (x_2 - 1)^2/2)$$\n",
    "$$2\\exp(-(x_1 - 1)^2/4 - 1/4 + (x_1 - 1)/2) = \\exp(-(x_1 - 1)^2/4)$$\n",
    "$$2\\exp(-1/4 + (x_1 - 1)/2) = 1$$\n",
    "$$x_1 = 3/2 - 2 \\log 2$$\n",
    "\n",
    "The Bayes decisions rule classifies $x_1 > 3/2 - 2 \\log 2$ to Class 1 and $x_1 < 3/2 - 2 \\log 2$ to Class 2."
   ]
  },
  {
   "cell_type": "markdown",
   "metadata": {},
   "source": [
    "## Question 2\n",
    "\n",
    "### Part a\n",
    "$$\\mathbb{P}[Y_i = l | X_i = x] = \\exp(\\beta_l^T x)\\mathbb{P}[Y_i = L | X_i = x]$$\n",
    "$$\\sum_l \\mathbb{P}[Y_i = l | X_i = x] = 1 \\Rightarrow \\mathbb{P}[Y_i = L | X_i = x] \\sum \\exp(\\beta_l^T x) + \\mathbb{P}[Y_i = L | X_i = x] = 1 \\Rightarrow \\mathbb{P}[Y_i = L | X_i = x] = \\left(\\sum \\exp(\\beta_l^T x) + 1\\right)^{-1}$$\n",
    "$$\\mathbb{P}[Y_i = l | X_i = x] = \\frac{\\exp(\\beta_l^T x)}{\\sum_l \\exp(\\beta_l^T x) + 1}$$\n",
    "\n",
    "### Part b\n",
    "$$\\mathcal{L}(\\beta; X_i) = \\prod \\mathbb{P}[l = Y_i | x = X_i]$$\n",
    "$$-\\log \\mathcal{L}(\\beta; X_i) = -\\sum_i \\log \\frac{\\exp(\\beta_{Y_i}^T X_i)}{\\sum_l \\exp(\\beta_l^T X_i) + 1}$$\n",
    "$$L(\\beta) = -\\log \\mathcal{L}(\\beta; X_i) = -\\sum_i \\log \\frac{\\exp(\\beta_{Y_i}^T X_i)}{\\exp(\\beta_1^T X_i) + \\cdots + \\exp(\\beta_L^T X_i)}$$\n",
    "\n",
    "### Part c\n",
    "$$\\partial L/\\partial \\beta_l = -\\sum_i \\partial/\\partial \\beta_l(\\beta_{Y_i}^T X_i) + \\sum_i \\partial/\\partial \\beta_l \\log(\\exp(\\beta_1^T X_i) + \\cdots + \\exp(\\beta_L^T X_i))$$\n",
    "$$ = -\\sum_i 1[Y_i = l]X_i + \\sum_i \\exp(\\beta_l^T X_i) X_i/(\\exp(\\beta_1^T X_i) + \\cdots + \\exp(\\beta_L^T X_i))$$\n",
    "$$ = \\sum_i (\\exp(\\beta_l^T X_i)/(\\exp(\\beta_1^T X_i) + \\cdots + \\exp(\\beta_L^T X_i)) - 1[Y_i=l])X_i$$\n",
    "\n",
    "### Part d\n",
    "$$\\beta^{(e, i)}_l \\leftarrow \\beta^{(e, i-1)}_l - \\alpha_e \\exp(X_i^T \\beta^{(e, i)}_l) X_i /\\Sigma^{(e, i)}$$\n",
    "$$\\beta^{(e, i)}_{Y_i} \\leftarrow \\beta^{(e, i-1)}_{Y_i} + \\alpha_e X_i$$\n",
    "where $\\Sigma^{(e, i)} = \\exp(X_i^T \\beta^{(e, i)}_1) + \\cdots + \\exp(X_i^T \\beta^{(e, i)}_L)$."
   ]
  }
 ],
 "metadata": {
  "kernelspec": {
   "display_name": "Python 3.10.7 64-bit",
   "language": "python",
   "name": "python3"
  },
  "language_info": {
   "name": "python",
   "version": "3.10.7"
  },
  "orig_nbformat": 4,
  "vscode": {
   "interpreter": {
    "hash": "7e1998ff7f8aa20ada591c520b972326324e5ea05489af9e422744c7c09f6dad"
   }
  }
 },
 "nbformat": 4,
 "nbformat_minor": 2
}
